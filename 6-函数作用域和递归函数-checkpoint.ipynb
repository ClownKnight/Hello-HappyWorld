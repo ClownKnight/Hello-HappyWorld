{
 "cells": [
  {
   "cell_type": "markdown",
   "metadata": {},
   "source": [
    "#  変量作用域\n",
    "    ·变量作用域有范围限制\n",
    "    ·范围限制分为：\n",
    "        ·全局变量-global\n",
    "        ·局部变量-local\n",
    "    ·全局变量全局范围都可用\n",
    "    ·局部变量只能在局部使用\n",
    "    ·全局变量易改变\n",
    "    ·局部变量不易改变--相对于全局变量---案例一\n",
    "    ·想要提升局部变量为全局变量时使用---案例二\n",
    "        ·global\n",
    "        ·nonlocal---案例三\n",
    "    "
   ]
  },
  {
   "cell_type": "code",
   "execution_count": 8,
   "metadata": {},
   "outputs": [
    {
     "name": "stdout",
     "output_type": "stream",
     "text": [
      "100\n",
      "test。。。。\n",
      "9\n"
     ]
    }
   ],
   "source": [
    "#案例一\n",
    "#a1为全局变量\n",
    "a1 = 100\n",
    "def test():\n",
    "    #a2为局部变量\n",
    "    a2 = 9\n",
    "    print('test。。。。')\n",
    "    print(a2)\n",
    "\n",
    "print(a1)\n",
    "test()\n",
    "#print(a2):NameError: name 'a2' is not defined,试图访问局部变量出错"
   ]
  },
  {
   "cell_type": "code",
   "execution_count": 13,
   "metadata": {},
   "outputs": [
    {
     "name": "stdout",
     "output_type": "stream",
     "text": [
      "100\n",
      "test.....\n",
      "110\n",
      "65\n"
     ]
    }
   ],
   "source": [
    "#案例二--关于global的一些问题\n",
    "#a1全局变量\n",
    "a1 = 100\n",
    "def test():\n",
    "    #使用global后  未报错   but  这个报错让我非常奇怪啊！！a1是全局变量，而在函数内部调用为什么会报错呢？\n",
    "    global a1, a2\n",
    "    a1 += 10\n",
    "    a2 = 65\n",
    "    print('test.....')\n",
    "    \n",
    "   \n",
    "print(a1)\n",
    "#未使用global时报错：UnboundLocalError: local variable 'a1' referenced before assignment\n",
    "test()\n",
    "print(a1)\n",
    "#使用global提升a2后 可以直接打印出来\n",
    "print(a2)"
   ]
  },
  {
   "cell_type": "markdown",
   "metadata": {},
   "source": [
    "# 关于global报错的思考\n",
    "    在网上查找后，我对global报错问题有了一些看法\n",
    "    ·首先，毫無疑問global是用于将局部变量提升为全局变量的\n",
    "    ·其次，global不仅仅是用于提升，也是用于在局部声明某个变量是全局变量\n",
    "        ·电脑是很笨的，而python函数内部，同样的变量名a1却代表不同的变量，一个是全局变量，一个是局部变量，想要让电脑知道这个a1是全局变量就要使用global声明。"
   ]
  },
  {
   "cell_type": "code",
   "execution_count": 42,
   "metadata": {},
   "outputs": [
    {
     "ename": "SyntaxError",
     "evalue": "no binding for nonlocal 'a1' found (<ipython-input-42-5ab17ab586d6>, line 6)",
     "output_type": "error",
     "traceback": [
      "\u001b[1;36m  File \u001b[1;32m\"<ipython-input-42-5ab17ab586d6>\"\u001b[1;36m, line \u001b[1;32m6\u001b[0m\n\u001b[1;33m    nonlocal a1\u001b[0m\n\u001b[1;37m    ^\u001b[0m\n\u001b[1;31mSyntaxError\u001b[0m\u001b[1;31m:\u001b[0m no binding for nonlocal 'a1' found\n"
     ]
    }
   ],
   "source": [
    "#案例三\n",
    "#nonlocal的作用是指出某个变量不是局部变量---ps：真不知道这个东西用啥用.\n",
    "#出错后，添加全局变量a1\n",
    "a1 = 55\n",
    "def Non_local():\n",
    "    nonlocal a1\n",
    "    a1 = 100\n",
    "    print('难道就用global不行吗?')\n",
    "    print(a1)\n",
    "#print(a1)\n",
    "Non_local()\n",
    "#有意思了，出现错误：SyntaxError: no binding for nonlocal 'a1' found   哈哈哈，为毛呢？\n",
    "#print(a1)\n",
    "#哦哦哦,还是不好用哦！！！有点想法了，现在设置全局变量a1试试\n",
    "\n",
    "\n",
    "#嗯，我大概有点明白为啥要用nonlocal了，但这个例子已经失败，换个"
   ]
  },
  {
   "cell_type": "code",
   "execution_count": 81,
   "metadata": {},
   "outputs": [
    {
     "name": "stdout",
     "output_type": "stream",
     "text": [
      "100\n",
      "t = 150\n",
      "3\n"
     ]
    }
   ],
   "source": [
    "#案例三3.0版本\n",
    "#t = 2 \n",
    "f = 2\n",
    "def fun1():\n",
    "    t = 100\n",
    "    def fun2():\n",
    "        #global t    报错啦啦啦，NameError: name 't' is not defined\n",
    "        global f\n",
    "        nonlocal t\n",
    "        t += 50\n",
    "        f += 1\n",
    "        print('t = {0}'.format(t))\n",
    "    \n",
    "    print(t)\n",
    "    return fun2()\n",
    "#t未发生改变  why？\n",
    "    \n",
    "fun1()\n",
    "print(f)"
   ]
  },
  {
   "cell_type": "markdown",
   "metadata": {},
   "source": [
    "# 关于案例三的一些思考后的结论\n",
    "    ·首先，global不适用于多层函数嵌套的变量提升，因为会发生变量名冲突，电脑不知道你指的是全局变量还是上层的局部变量。\n",
    "    ·and， 在多层嵌套的函数中，要想使用上一层函数的变量，就需要使用nonlocal\n",
    "    ·没有多层嵌套的函数中，nonlocal是无法使用的，我的理解是，没有上层函数，也就无法使用nonlocal，so\n",
    "    ·我的理解，nonlocal的定义为：声明在本函数中的变量是上层函数的同名变量。嘛~~~~这就蛮有意思了。\n",
    "    ·真不知道python的设计师是咋想到这么个游戏规则的。"
   ]
  },
  {
   "cell_type": "markdown",
   "metadata": {},
   "source": [
    "# globals函数  And  locals函数\n",
    "    ·globals--用于显示全局变量\n",
    "    ·locals---用于显示局部变量"
   ]
  },
  {
   "cell_type": "code",
   "execution_count": 93,
   "metadata": {},
   "outputs": [
    {
     "name": "stdout",
     "output_type": "stream",
     "text": [
      "{'c': 100}\n"
     ]
    }
   ],
   "source": [
    "#嘛~~~这就两个内置函数而已，，没啥\n",
    "a = 1\n",
    "b = 2\n",
    "def fun():\n",
    "    c = 100\n",
    "    print(locals())\n",
    "   # print(globals())\n",
    "    \n",
    "fun()\n",
    "#en ,就这样，过了"
   ]
  },
  {
   "cell_type": "markdown",
   "metadata": {},
   "source": [
    "# eval（）函数\n",
    "    ·把一个字符串当作表达式执行，返回结果。\n",
    "    ·嗯，邪恶？？？？evil？？？\n",
    "    ·语法嘛~~~看例子\n",
    "    \n",
    "# e'xec（）\n",
    "    ·就是不返回结果，bite me！\n",
    "    ·语法看例子"
   ]
  },
  {
   "cell_type": "code",
   "execution_count": 87,
   "metadata": {},
   "outputs": [
    {
     "name": "stdout",
     "output_type": "stream",
     "text": [
      "300\n"
     ]
    }
   ],
   "source": [
    "x = 100\n",
    "y = 200\n",
    "z = eval('x + y')\n",
    "\n",
    "print(z)\n"
   ]
  },
  {
   "cell_type": "code",
   "execution_count": 89,
   "metadata": {},
   "outputs": [
    {
     "name": "stdout",
     "output_type": "stream",
     "text": [
      "300\n"
     ]
    }
   ],
   "source": [
    "x = 100\n",
    "y = 200\n",
    "exec('x = x + y')\n",
    "\n",
    "print(x)"
   ]
  },
  {
   "cell_type": "markdown",
   "metadata": {},
   "source": [
    "话说，这俩函数是来搞笑的嘛？有毛用啊~~~~~"
   ]
  },
  {
   "cell_type": "markdown",
   "metadata": {},
   "source": [
    "# 递归函数\n",
    "    ·直接or间接调用自身--------吃自己？？？\n",
    "    ·消耗资源很大，but python自己有限制-----看来python设计者还是很知道玩崩计算机的后果的.....\n",
    "    ·递归函数最关键的是，结束条件的设置，没有return自己还能算吃自己？？"
   ]
  },
  {
   "cell_type": "code",
   "execution_count": 94,
   "metadata": {},
   "outputs": [
    {
     "name": "stdout",
     "output_type": "stream",
     "text": [
      "2\n"
     ]
    }
   ],
   "source": [
    "x = 1\n",
    "def fun():\n",
    "    global x\n",
    "    x += 1\n",
    "    print(x)\n",
    "    if x == 100:\n",
    "        return x\n",
    "    #return fun()\n",
    "fun()\n",
    "#知道就好"
   ]
  },
  {
   "cell_type": "markdown",
   "metadata": {},
   "source": [
    "# 递归函数很有用，能解决很多麻烦事，比如：斐波那契数列\n",
    "    ·一列数字，第一个值是1， 第二个也是1， 从第三个开始，每一个数字的值等于前两个数字出现的值的和\n",
    "    ·ok  做做把，虽然没什么新意"
   ]
  },
  {
   "cell_type": "code",
   "execution_count": 103,
   "metadata": {},
   "outputs": [
    {
     "name": "stdout",
     "output_type": "stream",
     "text": [
      "请输入斐波那契数列的....你知道的\n",
      "3\n"
     ]
    }
   ],
   "source": [
    "print('请输入斐波那契数列的....你知道的')\n",
    "num = int(input())\n",
    "fun(num)\n",
    "def fun(num):\n",
    "    \n",
    "    if num == 1:\n",
    "        return 1\n",
    "    if num == 2:\n",
    "        return 1\n",
    "    if num <= 0:\n",
    "        print('sorry,你输入的值小于0了！你不是来捣乱的把！！！')\n",
    "        return None\n",
    "    return fun(num-1) + fun(num-2)\n",
    "    "
   ]
  }
 ],
 "metadata": {
  "kernelspec": {
   "display_name": "Python 3",
   "language": "python",
   "name": "python3"
  },
  "language_info": {
   "codemirror_mode": {
    "name": "ipython",
    "version": 3
   },
   "file_extension": ".py",
   "mimetype": "text/x-python",
   "name": "python",
   "nbconvert_exporter": "python",
   "pygments_lexer": "ipython3",
   "version": "3.6.5"
  }
 },
 "nbformat": 4,
 "nbformat_minor": 2
}
